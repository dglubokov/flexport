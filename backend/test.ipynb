{
 "cells": [
  {
   "cell_type": "code",
   "execution_count": 1,
   "metadata": {},
   "outputs": [],
   "source": [
    "import asyncio\n",
    "\n",
    "from flexport.sftp_ftp import list_files_sftp, list_files_ftp"
   ]
  },
  {
   "cell_type": "code",
   "execution_count": 2,
   "metadata": {},
   "outputs": [],
   "source": [
    "# loop = asyncio.get_event_loop()\n",
    "# result = loop.run_until_complete(\n",
    "#     list_files_sftp(\n",
    "#         host=\"usftp21.novogene.com\",\n",
    "#         username=\"X202SC24120529-Z01-F001\",\n",
    "#         password=\"xymddgjd\",\n",
    "#         port=21\n",
    "#     )\n",
    "# )\n",
    "# print(result)"
   ]
  },
  {
   "cell_type": "code",
   "execution_count": 3,
   "metadata": {},
   "outputs": [
    {
     "data": {
      "text/plain": [
       "[{'name': '/01.RawData',\n",
       "  'type': 'directory',\n",
       "  'size': '4096',\n",
       "  'modified_time': '20250113092500'},\n",
       " {'name': '/02.Report_X202SC24120529-Z01-F001.zip',\n",
       "  'type': 'file',\n",
       "  'size': '4881850',\n",
       "  'modified_time': '20250113093000'},\n",
       " {'name': '/MD5-manual.pdf',\n",
       "  'type': 'file',\n",
       "  'size': '454301',\n",
       "  'modified_time': '20250113092800'},\n",
       " {'name': '/MD5-win.exe',\n",
       "  'type': 'file',\n",
       "  'size': '860160',\n",
       "  'modified_time': '20250113093000'},\n",
       " {'name': '/MD5.txt',\n",
       "  'type': 'file',\n",
       "  'size': '3990',\n",
       "  'modified_time': '20250113092900'},\n",
       " {'name': '/Readme.html',\n",
       "  'type': 'file',\n",
       "  'size': '24706',\n",
       "  'modified_time': '20250113092800'},\n",
       " {'name': '/checkSize.xls',\n",
       "  'type': 'file',\n",
       "  'size': '3936',\n",
       "  'modified_time': '20250113092900'}]"
      ]
     },
     "execution_count": 3,
     "metadata": {},
     "output_type": "execute_result"
    }
   ],
   "source": [
    "\n",
    "await list_files_ftp(\n",
    "    host=\"usftp21.novogene.com\",\n",
    "    username=\"X202SC24120529-Z01-F001\",\n",
    "    password=\"xymddgjd\",\n",
    "    port=21\n",
    ")"
   ]
  },
  {
   "cell_type": "code",
   "execution_count": null,
   "metadata": {},
   "outputs": [],
   "source": []
  }
 ],
 "metadata": {
  "kernelspec": {
   "display_name": ".venv",
   "language": "python",
   "name": "python3"
  },
  "language_info": {
   "codemirror_mode": {
    "name": "ipython",
    "version": 3
   },
   "file_extension": ".py",
   "mimetype": "text/x-python",
   "name": "python",
   "nbconvert_exporter": "python",
   "pygments_lexer": "ipython3",
   "version": "3.12.7"
  }
 },
 "nbformat": 4,
 "nbformat_minor": 2
}
